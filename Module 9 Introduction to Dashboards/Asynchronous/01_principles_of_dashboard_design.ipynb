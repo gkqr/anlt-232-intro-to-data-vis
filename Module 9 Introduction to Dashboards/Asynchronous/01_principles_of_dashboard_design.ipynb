{
 "cells": [
  {
   "cell_type": "markdown",
   "id": "d96dc300-6481-406e-b215-97b357161b7f",
   "metadata": {},
   "source": [
    "<p style=\"display: flex; align-items: center;\">\n",
    "    <span style=\"font-size: 32px; font-weight: bold;\">📍 Principles of Dashboard Design</span>\n",
    "</p>"
   ]
  },
  {
   "cell_type": "markdown",
   "id": "ee394584-7c35-4997-a7a5-3d3668f1913b",
   "metadata": {},
   "source": [
    "## Introduction to Dashboards\n",
    "\n",
    "### What is a Dashboard?\n",
    "A **dashboard** is a visual interface that consolidates and presents key data points in an intuitive and structured manner, enabling users to monitor trends, track performance, and make data-driven decisions efficiently. They typically include a combination of charts, tables, filters, and other interactive elements.\n",
    "\n",
    "<div style=\"text-align: center;\">\n",
    "    <img src=\"../images/dash_heart_dashboard.png\" alt=\"Dash Heart Disease Prediction\" width=\"600\" style=\"display: block; margin: 0 auto;\">\n",
    "    <p style=\"text-align: center;\">Example: Dash Heart Disease Prediction</p>\n",
    "</div>\n",
    "\n",
    "\n",
    "### The Purpose of Dashboards\n",
    "- **Monitoring**: Dashboards provide real-time insights into critical metrics, allowing users to track performance over time.\n",
    "  \n",
    "- **Decision-Making**: A well-designed dashboard helps users identify trends, outliers, and patterns that inform strategic decisions.\n",
    "\n",
    "- **Communication**: Dashboards effectively summarize complex data for stakeholders, improving transparency and alignment across teams.\n",
    "\n",
    "### Types of Dashboards\n",
    "There are three primary types of dashboards, each serving a distinct purpose:\n",
    "\n",
    "1. **Operational Dashboards**: Real-time monitoring of key metrics, designed for quick insights and immediate actions.  \n",
    "    * *Ex*: A dashboard displaying website traffic, sales performance, or server health monitoring.\n",
    "2. **Analytical Dashboards**: Focuses on historical data analysis and trend identification, often times providing deeper insights through drill-down capabilities.\n",
    "    * *Ex*: A financial dashboard analyzing revenue growth over several years.\n",
    "3. **Strategic Dashboards**: Used by executives to track high-level key performance indicators (KPIs), providing an overview of company-wide objectives and progress.\n",
    "    * *Ex*: A company-wide performance dashboard showing profitability, market share, and customer retention."
   ]
  },
  {
   "cell_type": "markdown",
   "id": "25a53adc-082c-4521-8a7f-27baf1f03064",
   "metadata": {},
   "source": [
    "## Characteristics of an Effective Dashboard\n",
    "An effective dashboard should be:\n",
    "\n",
    "- <span style=\"color: green;\">**Clear and Intuitive**</span>: Information should be easy to read and interpret at a glance. The most important metrics should be emphasized through layout, size, or color.\n",
    "\n",
    "- <span style=\"color: green;\">**Focused and Purposeful**</span>: Every element in the dashboard should serve a specific function. Avoid adding data for the sake of adding data. Displaying too much information at once can overwhelm users.\n",
    "\n",
    "- <span style=\"color: green;\">**Actionable**</span>: Data should provide meaningful insights that guide decisions. Include contextual information, such as benchmarks or targets, to help interpret results.\n",
    "\n",
    "- <span style=\"color: green;\">**Interactive (When Appropriate)**</span>: Filters, drill-downs, and tooltips allow users to explore the data further. Interactive elements should be designed to enhance usability, not add unnecessary complexity\n",
    "\n",
    "- <span style=\"color: green;\">**Consistent and Well-Formatted**</span>: Use uniform colors, fonts, and chart styles. Maintain alignment and spacing to create a professional, structured layout."
   ]
  },
  {
   "cell_type": "markdown",
   "id": "0ff24184-7f04-45ac-b177-e2a9575c5117",
   "metadata": {},
   "source": [
    "### Example of a Well-Designed Dashboard\n",
    "This [Opioid Epidemic Dashboard](https://dash.gallery/dash-opioid-epidemic/) is a great example of an effective dashboard—it’s clean, interactive, and easy to navigate.\n",
    "\n",
    "<div style=\"text-align: center;\">\n",
    "    <img src=\"../images/good_dashboard.png\" alt=\"Rate of US Poison-Induced Deaths\" width=\"900\" style=\"display: block; margin: 0 auto;\">\n",
    "    <p style=\"text-align: center;\">Example: Rate of US Poison-Induced Deaths</p>\n",
    "</div>\n",
    "\n",
    "\n",
    "#### What Makes This Dashboard Effective?\n",
    "- **Clear Layout**: Information is well-organized, making it easy to scan and find key insights quickly.\n",
    "  \n",
    "- **Interactive Filters**: Users can adjust filters to explore data by region, year, and chart type, making it more engaging.\n",
    "\n",
    "- **Strong Data Visuals**: A mix of bar chart and geographic heatmap helps present trends in a way that’s easy to understand.\n",
    "\n",
    "- **Minimal Clutter**: The design is simple and focused, keeping the attention on the most important data."
   ]
  },
  {
   "cell_type": "markdown",
   "id": "496da6ea-ed79-4c79-aae9-88f345a548f4",
   "metadata": {},
   "source": [
    "## Common Pitfalls in Dashboard Design\n",
    "### 1. Overloading the Dashboard with Too Much Information\n",
    "   - **Issue**: Trying to display every available metric in a single dashboard results in <span style=\"color: red;\">**clutter and cognitive overload**</span>.\n",
    "     \n",
    "   - **Solution**: Prioritize key metrics and use <span style=\"color: green;\">**progressive disclosure**</span>—start with high-level insights and allow users to drill down into details if needed.\n",
    "\n",
    "### 2. Poor Use of Colors\n",
    "- **Issue**: Using too many colors or arbitrary color choices can make dashboards <span style=\"color: red;\">**visually overwhelming**</span>.\n",
    "  \n",
    "- **Solution**: Stick to a <span style=\"color: green;\">**limited, meaningful color palette**</span>. Use color consistently (e.g., green for positive trends, red for negative trends).\n",
    "\n",
    "### 3. Choosing the Wrong Chart Type\n",
    "- **Issue**: Displaying data with an inappropriate visualization can <span style=\"color: red;\">**obscure important insights**</span>.\n",
    "- **Solution**: Match the <span style=\"color: green;\">**chart type to the data type**</span>:\n",
    "    - **Bar charts** for categorical comparisons\n",
    "    - **Line charts** for trends over time\n",
    "    - **Pie charts** (used sparingly) for showing proportions\n",
    "    - **Scatter plots** for relationships between variables\n",
    "    - *For more guidance in chart type selection, revist [Chart Chooser.pdf](https://pacific.instructure.com/courses/130867/files/30846898?module_item_id=1376504)*\n",
    "\n",
    "### 4. Unclear Labels and Poor Readability\n",
    "- **Issue**: Using vague labels or small fonts <span style=\"color: red;\">**makes interpretation difficult**</span>.\n",
    "  \n",
    "- **Solution**: Ensure that <span style=\"color: green;\">**axes, legends, and titles**</span> are clear and appropriately sized. Provide <span style=\"color: green;\">**units of measurement**</span> where applicable.\n"
   ]
  },
  {
   "cell_type": "markdown",
   "id": "bed6cfc1-73d9-4df1-9939-c7b81ef6a15d",
   "metadata": {},
   "source": [
    "## Best Practices for Dashboard Layout\n",
    "### Prioritize Information Hierarchy\n",
    "A dashboard should guide the user’s attention to the most important insights first. Consider:\n",
    "- **F-pattern or Z-pattern layouts** (how the eye naturally scans content).\n",
    "\n",
    "![F-pattern vs Z-pattern layouts](https://www.seerinteractive.com/hs-fs/hubfs/F-and-Z-Pattern-Reading.png?width=800&height=448&name=F-and-Z-Pattern-Reading.png)\n",
    "\n",
    "- Placing **key performance indicators (KPIs) at the top** for quick visibility.\n",
    "\n",
    "- Using **size and positioning** to emphasize important data.\n",
    "\n",
    "### Keep It Simple and Minimalist\n",
    "- Avoid unnecessary decorative elements that do not contribute to understanding.\n",
    "\n",
    "- Ensure that spacing and margins are well-structured to enhance readability.\n",
    "\n",
    "- Group related data points together to avoid unnecessary scanning.\n",
    "\n",
    "### Use Consistent Formatting\n",
    "- Ensure that fonts, colors, and chart types are consistent across the dashboard.\n",
    "- Stick to **two or three font sizes**:\n",
    "    - Large for **titles and key numbers**\n",
    "    - Medium for **subheadings and labels**\n",
    "    - Small for **additional details**"
   ]
  },
  {
   "cell_type": "markdown",
   "id": "416ecfaf-34df-45f6-ba1e-f57081879772",
   "metadata": {},
   "source": [
    "## Summary and Next Steps\n",
    "### Key Takeaways:\n",
    "- Dashboards should be **clear, simple, focused, and actionable**.\n",
    "\n",
    "- Avoid common pitfalls such as **clutter, poor color choices, and inappropriate chart types**.\n",
    "\n",
    "- Use **hierarchical layouts and consistent formatting** to enhance readability.\n",
    "\n",
    "### Next Lesson Preview:\n",
    "In the next notebook, we will introduce **Dash**, a Python framework for building interactive dashboards. We will start by setting up a simple dashboard using Dash and exploring its core components."
   ]
  }
 ],
 "metadata": {
  "kernelspec": {
   "display_name": "Python 3 (ipykernel)",
   "language": "python",
   "name": "python3"
  },
  "language_info": {
   "codemirror_mode": {
    "name": "ipython",
    "version": 3
   },
   "file_extension": ".py",
   "mimetype": "text/x-python",
   "name": "python",
   "nbconvert_exporter": "python",
   "pygments_lexer": "ipython3",
   "version": "3.12.8"
  }
 },
 "nbformat": 4,
 "nbformat_minor": 5
}
