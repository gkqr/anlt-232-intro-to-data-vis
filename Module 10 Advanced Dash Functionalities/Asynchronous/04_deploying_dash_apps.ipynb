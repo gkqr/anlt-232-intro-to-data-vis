{
 "cells": [
  {
   "cell_type": "markdown",
   "id": "7cc81127-1e47-4279-b37d-e478c493621d",
   "metadata": {},
   "source": [
    "<p style=\"display: flex; align-items: center;\">\n",
    "    <img src=\"https://saturn-public-assets.s3.us-east-2.amazonaws.com/example-resources/plotly_dash_logo.png\" alt=\"Seaborn Logo\" width=\"190\" style=\"margin-right: 10px;\">\n",
    "    <span style=\"font-size: 32px; font-weight: bold;\">📍 Deploying Dash Apps</span>\n",
    "</p>"
   ]
  },
  {
   "cell_type": "markdown",
   "id": "6c784ca7-0e2a-4abe-8d98-c8b84ef7ec4c",
   "metadata": {},
   "source": [
    "Interactive Dash applications are powerful tools for data visualization and analysis, but to make them accessible to users, they need to be **deployed to the web**. In this notebook, we’ll walk through the process of deploying a Dash app on [**Render.com**](https://render.com/), a cloud platform that offers a free tier and straightforward deployment. \n",
    "\n",
    "We’ll also discuss other cloud services such as **Heroku, AWS, Google Cloud (GCP), and Azure** as alternative options."
   ]
  },
  {
   "cell_type": "markdown",
   "id": "218f3de3-7c15-4c5b-9141-ec9368c169a4",
   "metadata": {},
   "source": [
    "## Render\n",
    "**Render** is a **cloud computing platform that facilitates the deployment**, hosting and execution of applications, databases, scheduled tasks and other services. It's often described as an easy-to-use platform that combines the ease of platforms like Heroku with the power and flexibility of more traditional cloud providers like AWS.\n",
    "\n",
    "### Key Features\n",
    "Some key features and offerings of Render include:\n",
    "\n",
    "- **Web application deployment**: Render allows you to deploy web applications in various languages and frameworks, including Node.js, Ruby on Rails, Django and many others.\n",
    "\n",
    "- **Private services**: These are applications or jobs that are not exposed to the Internet but can be used by other applications in Render.\n",
    "\n",
    "- **Scheduled tasks**: Allows executing periodic jobs, similar to Cron jobs (a utility used for scheduling tasks) in Unix systems.\n",
    "\n",
    "- **Databases**: Render supports the deployment of databases such as PostgreSQL and offers a persistent storage solution for data.\n",
    "\n",
    "- **Deployment from repositories**: You can connect your GitHub or GitLab repository and configure automatic deployments every time you push to your repository.\n",
    "\n",
    "**Render** has earned a positive reputation for being an attractive option for developers and startups looking for a quick and easy way to deploy and scale applications without the administrative overhead of more traditional solutions."
   ]
  },
  {
   "cell_type": "markdown",
   "id": "bc31432b-f5bd-4318-8f5f-1cbf13343c30",
   "metadata": {},
   "source": [
    "## 1. Preparing a Dash App for Deployment\n",
    "Before deploying, we need to ensure that our Dash application is **structured correctly** for production. The following steps are crucial:\n",
    "\n",
    "### 1.1 Ensure `server` is Exposed\n",
    "When running locally, we use `app.run(debug=True)`, but for deployment, we need to expose the WSGI server by adding:\n",
    "\n",
    "```python\n",
    "# Expose the WSGI server for Gunicorn\n",
    "server = app.server  \n",
    "```\n",
    "\n",
    "### 1.2 Create a `requirements.txt` File\n",
    "A `requirements.txt` file lists all dependencies needed for deployment. Run the following command to generate one:\n",
    "\n",
    "```bash\n",
    "pip freeze > requirements.txt\n",
    "```\n",
    "\n",
    "Manually review the file and ensure it contains necessary dependencies, such as:\n",
    "\n",
    "```txt\n",
    "dash==2.18.2\n",
    "dash-bootstrap-components==1.4.0\n",
    "numpy==1.26.4\n",
    "pandas==2.2.3\n",
    "plotly==6.0.0\n",
    "flask==3.0.3\n",
    "gunicorn==22.0.0\n",
    "```\n",
    "\n",
    "### 1.3 Create a `Procfile` (for Heroku users, optional for Render)\n",
    "For platforms like **Heroku**, a `Procfile` is required to specify how the application should be run:\n",
    "\n",
    "```\n",
    "web: gunicorn app:server\n",
    "```"
   ]
  },
  {
   "cell_type": "markdown",
   "id": "08c0d5ca-a263-4873-9bd5-c168d7c97798",
   "metadata": {},
   "source": [
    "## 2. Deploying to Render.com\n",
    "\n",
    "### 2.1 Sign Up and Create a New Web Service\n",
    "1. **Registration on the platform**: In order to access Render you must have an account. To register, you must access the following [link](https://dashboard.render.com/register). I recommend signing up with **GitHub**, as it streamlines deployment by allowing you to connect and deploy directly from your repositories.\n",
    "\n",
    "![Render Registration](images/render_registration.png)\n",
    "\n",
    "Once you have an account, you will have access to all the Render functionality:\n",
    "\n",
    "![Render Functionality](images/render_functionality.png)\n",
    "\n",
    "We can create database services, web deployment services, scheduled tasks...\n",
    "\n",
    "2. **Click New > Web Service**.\n",
    "\n",
    "![New Web Service](images/new_web_service.png)\n",
    "\n",
    "3. Connect your **GitHub repository** where you've uploaded all the code containing the Dash app.\n",
    "\n",
    "![GitHub Source Code](images/github_source_code.png)"
   ]
  },
  {
   "cell_type": "markdown",
   "id": "ae8c2560-7e57-4954-9fe7-ec0b3c2b43f8",
   "metadata": {},
   "source": [
    "### 2.2 Configure Deployment Settings\n",
    "Once we select out GitHub repository, a **form** like the following one will appear:\n",
    "\n",
    "![Configuration Form](images/configuration_form.png)\n",
    "\n",
    "We will have to fill it with the following information:\n",
    "\n",
    "- **Name**: The name we want our service to have. In my case, I am planning to deploy the themed and styled dashboard from Notebook 1 (**See:** [**1.7_themed_and_styled_dashboard/**](https://github.com/themarisolhernandez/anlt-232-intro-to-data-vis/tree/master/Module%2010%20Advanced%20Dash%20Functionalities/Asynchronous/dash_projects/1.7_themed_and_styled_dashboard), so I will name the service `1.7_themed_and_styled_dashboard`.\n",
    "\n",
    "- **Language**: The code is Python, so we will leave the default value, `Python 3`.\n",
    "\n",
    "- **Branch**: The branch where our updated code is located, always in the latest version. We'll leave the default value, `master`.\n",
    "\n",
    "- **Root Directory**: In this case, I've developed the code inside a specific directory, `Module 10 Advanced Dash Functionalities/Asynchronous/dash_projects/1.7_themed_and_styled_dashboard`, which includes the Python script and the project libraries (file `requirements.txt`), so I should enter this directory as my **root directory**.\n",
    "\n",
    "- **Build Command**: We'll leave the default value, `pip install -r requirements.txt`.\n",
    "\n",
    "- **Start Command**: For development/testing, we used the start up command `python app.py`. We can use this as the startup command on Render, but **it’s not recommended for production deployments**. Instead, we'll use `gunicorn app:server` as our startup command (Note: `gunicorn` must be listed in your project's `requirements.txt`.\n",
    "\n",
    "![Filled Configuration Form](images/filled_configuration_form.png)\n",
    "\n",
    "Finally, we'll choose the **free rate**. Once the form is filled in, you can select **Deploy Web Service**.\n",
    "\n",
    "![Deploy Web Service](images/deploy_web_service.png)"
   ]
  },
  {
   "cell_type": "markdown",
   "id": "df15f4eb-ac82-4f1f-aaf4-e2a7fa305124",
   "metadata": {},
   "source": [
    "### 2.3 Deploy and Test the App\n",
    "In the next step, we'll see a console with the **logs of the application deployment**. The deployment is done step by step, first cloning the repository, building it, installing the dependencies, and, finally, executing the command to launch the web application.\n",
    "\n",
    "![Build Log](images/build_log.png)"
   ]
  },
  {
   "cell_type": "code",
   "execution_count": null,
   "id": "d21ab73d-9b17-42cb-a51c-7b7e65ef54e2",
   "metadata": {},
   "outputs": [],
   "source": []
  }
 ],
 "metadata": {
  "kernelspec": {
   "display_name": "Python 3 (ipykernel)",
   "language": "python",
   "name": "python3"
  },
  "language_info": {
   "codemirror_mode": {
    "name": "ipython",
    "version": 3
   },
   "file_extension": ".py",
   "mimetype": "text/x-python",
   "name": "python",
   "nbconvert_exporter": "python",
   "pygments_lexer": "ipython3",
   "version": "3.12.8"
  }
 },
 "nbformat": 4,
 "nbformat_minor": 5
}
