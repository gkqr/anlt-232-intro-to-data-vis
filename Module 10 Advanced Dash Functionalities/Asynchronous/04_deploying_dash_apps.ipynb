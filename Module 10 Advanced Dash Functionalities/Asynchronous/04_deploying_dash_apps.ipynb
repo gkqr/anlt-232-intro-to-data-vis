{
 "cells": [
  {
   "cell_type": "markdown",
   "id": "7cc81127-1e47-4279-b37d-e478c493621d",
   "metadata": {},
   "source": [
    "<p style=\"display: flex; align-items: center;\">\n",
    "    <img src=\"https://saturn-public-assets.s3.us-east-2.amazonaws.com/example-resources/plotly_dash_logo.png\" alt=\"Seaborn Logo\" width=\"190\" style=\"margin-right: 10px;\">\n",
    "    <span style=\"font-size: 32px; font-weight: bold;\">📍 Deploying Dash Apps</span>\n",
    "</p>"
   ]
  },
  {
   "cell_type": "code",
   "execution_count": null,
   "id": "23aa2d73-b485-4cd9-917e-8da4a906e59f",
   "metadata": {},
   "outputs": [],
   "source": []
  }
 ],
 "metadata": {
  "kernelspec": {
   "display_name": "Python 3 (ipykernel)",
   "language": "python",
   "name": "python3"
  },
  "language_info": {
   "codemirror_mode": {
    "name": "ipython",
    "version": 3
   },
   "file_extension": ".py",
   "mimetype": "text/x-python",
   "name": "python",
   "nbconvert_exporter": "python",
   "pygments_lexer": "ipython3",
   "version": "3.12.8"
  }
 },
 "nbformat": 4,
 "nbformat_minor": 5
}
